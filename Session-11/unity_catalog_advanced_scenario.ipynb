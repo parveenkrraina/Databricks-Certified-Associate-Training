{
 "cells": [
  {
   "cell_type": "markdown",
   "metadata": {
    "application/vnd.databricks.v1+cell": {
     "cellMetadata": {},
     "inputWidgets": {},
     "nuid": "1f632a03-ffcd-485c-8a66-752e58303443",
     "showTitle": false,
     "tableResultSettingsMap": {},
     "title": ""
    }
   },
   "source": [
    "# Advanced Unity Catalog Data Governance & Security Lab\n",
    "\n",
    "**Scenario:**  \n",
    "You’re building a production-grade, multi-environment analytics platform for a financial services organization with strict security, audit, and data sharing needs.\n",
    "\n",
    "**Key Focus:**\n",
    "- Environment isolation\n",
    "- Cross-catalog sharing\n",
    "- Fine-grained and dynamic access (row/column masking)\n",
    "- Automated retention\n",
    "- Auditing access\n",
    "- External data integration\n",
    "- Marketplace and lineage\n",
    "---"
   ]
  },
  {
   "cell_type": "markdown",
   "metadata": {
    "application/vnd.databricks.v1+cell": {
     "cellMetadata": {},
     "inputWidgets": {},
     "nuid": "44dcf3c8-49ad-4271-8b7c-35e836d3256e",
     "showTitle": false,
     "tableResultSettingsMap": {},
     "title": ""
    }
   },
   "source": [
    "## 1. Multi-Environment Catalog Structure\n",
    "\n",
    "Establish dev/test/prod catalogs for isolation.\n",
    "\n",
    "**Exam Tip:**  \n",
    "Know why isolation by catalog matters for compliance and devops."
   ]
  },
  {
   "cell_type": "code",
   "execution_count": 0,
   "metadata": {
    "application/vnd.databricks.v1+cell": {
     "cellMetadata": {
      "byteLimit": 2048000,
      "rowLimit": 10000
     },
     "inputWidgets": {},
     "nuid": "83b66c38-4496-4049-84a9-7b0694938b49",
     "showTitle": false,
     "tableResultSettingsMap": {},
     "title": ""
    }
   },
   "outputs": [],
   "source": [
    "for env in ['dev', 'test', 'prod']:\n",
    "    spark.sql(f\"\"\"\n",
    "    CREATE CATALOG IF NOT EXISTS fin_{env}\n",
    "    MANAGED LOCATION 'abfss://data@deassociateadls.dfs.core.windows.net/newcatalog/{env}/finance'\n",
    "    COMMENT 'Financial {env} environment';\n",
    "    \"\"\")"
   ]
  },
  {
   "cell_type": "code",
   "execution_count": 0,
   "metadata": {
    "application/vnd.databricks.v1+cell": {
     "cellMetadata": {
      "byteLimit": 2048000,
      "rowLimit": 10000
     },
     "inputWidgets": {},
     "nuid": "486ab187-cfc0-4994-a5e2-d99de6cb2912",
     "showTitle": false,
     "tableResultSettingsMap": {},
     "title": ""
    }
   },
   "outputs": [],
   "source": [
    "for env in ['dev', 'test', 'prod']:\n",
    "    spark.sql(f\"\"\"\n",
    "    CREATE SCHEMA IF NOT EXISTS fin_{env}.trans COMMENT 'Transactional data'\n",
    "    \"\"\")\n",
    "    spark.sql(f\"\"\"\n",
    "    CREATE SCHEMA IF NOT EXISTS fin_{env}.pii COMMENT 'PII data'\n",
    "    \"\"\")"
   ]
  },
  {
   "cell_type": "markdown",
   "metadata": {
    "application/vnd.databricks.v1+cell": {
     "cellMetadata": {},
     "inputWidgets": {},
     "nuid": "5dff7a9a-1d2f-4dab-9999-0711b1035787",
     "showTitle": false,
     "tableResultSettingsMap": {},
     "title": ""
    }
   },
   "source": [
    "## 2. Simulate Sensitive Table Creation & Ingestion\n",
    "\n",
    "Create and ingest PII and non-PII tables."
   ]
  },
  {
   "cell_type": "code",
   "execution_count": 0,
   "metadata": {
    "application/vnd.databricks.v1+cell": {
     "cellMetadata": {
      "byteLimit": 2048000,
      "rowLimit": 10000
     },
     "inputWidgets": {},
     "nuid": "6fdd8ff7-9260-48fb-8c56-4e5c6575d30b",
     "showTitle": false,
     "tableResultSettingsMap": {},
     "title": ""
    }
   },
   "outputs": [],
   "source": [
    "# PII Table\n",
    "spark.sql('''\n",
    "CREATE TABLE IF NOT EXISTS fin_prod.pii.customers (\n",
    "    customer_id STRING,\n",
    "    customer_name STRING,\n",
    "    ssn STRING,\n",
    "    email STRING\n",
    ") USING DELTA\n",
    "''')"
   ]
  },
  {
   "cell_type": "code",
   "execution_count": 0,
   "metadata": {
    "application/vnd.databricks.v1+cell": {
     "cellMetadata": {
      "byteLimit": 2048000,
      "rowLimit": 10000
     },
     "inputWidgets": {},
     "nuid": "56ecee60-68ed-4a4f-b639-6d5809790d2b",
     "showTitle": false,
     "tableResultSettingsMap": {},
     "title": ""
    }
   },
   "outputs": [],
   "source": [
    "# Non-PII Table\n",
    "spark.sql('''\n",
    "CREATE TABLE IF NOT EXISTS fin_prod.trans.transactions (\n",
    "    transaction_id STRING,\n",
    "    customer_id STRING,\n",
    "    amount DOUBLE,\n",
    "    timestamp TIMESTAMP\n",
    ") USING DELTA\n",
    "''')"
   ]
  },
  {
   "cell_type": "markdown",
   "metadata": {
    "application/vnd.databricks.v1+cell": {
     "cellMetadata": {},
     "inputWidgets": {},
     "nuid": "0245f576-4349-49dc-a1a5-febacf7ba1b0",
     "showTitle": false,
     "tableResultSettingsMap": {},
     "title": ""
    }
   },
   "source": [
    "## 3. Column Masking for PII Data\n",
    "\n",
    "Mask SSN for users not in the `pii_admins` group.\n",
    "\n",
    "**Advanced Exam Concept:**  \n",
    "Dynamic views for column masking."
   ]
  },
  {
   "cell_type": "code",
   "execution_count": 0,
   "metadata": {
    "application/vnd.databricks.v1+cell": {
     "cellMetadata": {
      "byteLimit": 2048000,
      "rowLimit": 10000
     },
     "inputWidgets": {},
     "nuid": "d4c62936-9d16-4142-99d9-0debf37b6401",
     "showTitle": false,
     "tableResultSettingsMap": {},
     "title": ""
    }
   },
   "outputs": [],
   "source": [
    "spark.sql('''\n",
    "CREATE OR REPLACE VIEW fin_prod.pii.customers_masked AS\n",
    "SELECT\n",
    "  customer_id,\n",
    "  customer_name,\n",
    "  CASE WHEN is_member('pii_admins') THEN ssn ELSE 'XXX-XX-XXXX' END as ssn,\n",
    "  email\n",
    "FROM fin_prod.pii.customers\n",
    "''')"
   ]
  },
  {
   "cell_type": "code",
   "execution_count": 0,
   "metadata": {
    "application/vnd.databricks.v1+cell": {
     "cellMetadata": {
      "byteLimit": 2048000,
      "rowLimit": 10000
     },
     "inputWidgets": {},
     "nuid": "31624ea1-b2dc-4b12-b7d4-6517f40bbbe9",
     "showTitle": false,
     "tableResultSettingsMap": {},
     "title": ""
    }
   },
   "outputs": [],
   "source": [
    "spark.sql('GRANT SELECT ON VIEW fin_prod.pii.customers_masked TO `analysts`')"
   ]
  },
  {
   "cell_type": "markdown",
   "metadata": {
    "application/vnd.databricks.v1+cell": {
     "cellMetadata": {},
     "inputWidgets": {},
     "nuid": "59646308-a62c-4640-be11-2a05f435a77d",
     "showTitle": false,
     "tableResultSettingsMap": {},
     "title": ""
    }
   },
   "source": [
    "## 4. Row-Level Security Based on Department/Region\n",
    "\n",
    "Only allow users to see transactions from their own branch/region using a mapping table and the `current_user()` function."
   ]
  },
  {
   "cell_type": "code",
   "execution_count": 0,
   "metadata": {
    "application/vnd.databricks.v1+cell": {
     "cellMetadata": {
      "byteLimit": 2048000,
      "rowLimit": 10000
     },
     "inputWidgets": {},
     "nuid": "e7f66c28-bccd-4cd8-a74f-aaf0d63db792",
     "showTitle": false,
     "tableResultSettingsMap": {},
     "title": ""
    }
   },
   "outputs": [],
   "source": [
    "# Assume a mapping table exists: fin_prod.pii.customer (customer_id)\n",
    "# Simulate: Create a dynamic view that filters transactions by customer_id\n",
    "\n",
    "# Check if the table exists\n",
    "spark.sql(\"SHOW TABLES IN fin_prod.pii\").show()\n",
    "\n",
    "# Assuming the table exists, create the view\n",
    "spark.sql('''\n",
    "CREATE OR REPLACE VIEW fin_prod.trans.secure_transactions AS\n",
    "SELECT t.*\n",
    "FROM fin_prod.trans.transactions t\n",
    "JOIN fin_prod.pii.customers u ON u.customer_id = t.customer_id\n",
    "WHERE u.customer_id = current_user()\n",
    "''')"
   ]
  },
  {
   "cell_type": "code",
   "execution_count": 0,
   "metadata": {
    "application/vnd.databricks.v1+cell": {
     "cellMetadata": {},
     "inputWidgets": {},
     "nuid": "16d39c06-9b22-4e73-99f8-6397199da176",
     "showTitle": false,
     "tableResultSettingsMap": {},
     "title": ""
    }
   },
   "outputs": [],
   "source": [
    "spark.sql('GRANT SELECT ON VIEW fin_prod.trans.secure_transactions TO `regional_analysts`')"
   ]
  },
  {
   "cell_type": "markdown",
   "metadata": {
    "application/vnd.databricks.v1+cell": {
     "cellMetadata": {},
     "inputWidgets": {},
     "nuid": "0d968a32-f165-4c0b-b61c-c9a58115c3a9",
     "showTitle": false,
     "tableResultSettingsMap": {},
     "title": ""
    }
   },
   "source": [
    "## 5. Cross-Catalog Data Sharing: Reporting\n",
    "\n",
    "Expose production transaction data to a separate reporting catalog (read-only view, no direct table access)."
   ]
  },
  {
   "cell_type": "code",
   "execution_count": 0,
   "metadata": {
    "application/vnd.databricks.v1+cell": {
     "cellMetadata": {
      "byteLimit": 2048000,
      "implicitDf": true,
      "rowLimit": 10000
     },
     "inputWidgets": {},
     "nuid": "12990ae9-9442-488f-99fd-a0aa434eddac",
     "showTitle": false,
     "tableResultSettingsMap": {},
     "title": ""
    }
   },
   "outputs": [],
   "source": [
    "%sql\n",
    "CREATE CATALOG IF NOT EXISTS reporting\n",
    "MANAGED LOCATION 'abfss://data@deassociateadls.dfs.core.windows.net/uc/reporting';\n",
    "CREATE SCHEMA IF NOT EXISTS reporting.finance;\n",
    "CREATE OR REPLACE VIEW reporting.finance.prod_transactions AS\n",
    "SELECT * FROM fin_prod.trans.transactions;"
   ]
  },
  {
   "cell_type": "code",
   "execution_count": 0,
   "metadata": {
    "application/vnd.databricks.v1+cell": {
     "cellMetadata": {
      "byteLimit": 2048000,
      "rowLimit": 10000
     },
     "inputWidgets": {},
     "nuid": "23a03552-4e91-4944-b8de-cdac385fca11",
     "showTitle": false,
     "tableResultSettingsMap": {},
     "title": ""
    }
   },
   "outputs": [],
   "source": [
    "spark.sql('GRANT SELECT ON VIEW reporting.finance.prod_transactions TO `reporting_team`')"
   ]
  },
  {
   "cell_type": "markdown",
   "metadata": {
    "application/vnd.databricks.v1+cell": {
     "cellMetadata": {},
     "inputWidgets": {},
     "nuid": "ed0307f9-f12f-4d72-8636-654f32f98e9f",
     "showTitle": false,
     "tableResultSettingsMap": {},
     "title": ""
    }
   },
   "source": [
    "## 6. Automated Retention Policy Check\n",
    "\n",
    "Set and verify a 90-day retention on prod transactions for compliance."
   ]
  },
  {
   "cell_type": "code",
   "execution_count": 0,
   "metadata": {
    "application/vnd.databricks.v1+cell": {
     "cellMetadata": {
      "byteLimit": 2048000,
      "rowLimit": 10000
     },
     "inputWidgets": {},
     "nuid": "3030f581-92ed-4b7f-bdd9-38c389537f2b",
     "showTitle": false,
     "tableResultSettingsMap": {},
     "title": ""
    }
   },
   "outputs": [],
   "source": [
    "spark.sql('''\n",
    "ALTER TABLE fin_prod.trans.transactions SET TBLPROPERTIES (\n",
    "  \"delta.deletedFileRetentionDuration\" = \"interval 90 days\"\n",
    ")\n",
    "''')"
   ]
  },
  {
   "cell_type": "code",
   "execution_count": 0,
   "metadata": {
    "application/vnd.databricks.v1+cell": {
     "cellMetadata": {
      "byteLimit": 2048000,
      "rowLimit": 10000
     },
     "inputWidgets": {},
     "nuid": "cdda5c89-6881-49c4-a807-095ac1f46f2e",
     "showTitle": false,
     "tableResultSettingsMap": {},
     "title": ""
    }
   },
   "outputs": [],
   "source": [
    "# Check the retention property\n",
    "tbl = spark.sql('DESCRIBE DETAIL fin_prod.trans.transactions').toPandas()\n",
    "tbl[['name', 'properties']]"
   ]
  },
  {
   "cell_type": "markdown",
   "metadata": {
    "application/vnd.databricks.v1+cell": {
     "cellMetadata": {},
     "inputWidgets": {},
     "nuid": "b3cdc0c5-bb9f-4e31-884e-a0dcfe7daef9",
     "showTitle": false,
     "tableResultSettingsMap": {},
     "title": ""
    }
   },
   "source": [
    "## 7. Advanced Audit Query\n",
    "\n",
    "Show all access events for a specific user/group (requires connection to cloud logs or audit log table, simulated here)."
   ]
  },
  {
   "cell_type": "code",
   "execution_count": 0,
   "metadata": {
    "application/vnd.databricks.v1+cell": {
     "cellMetadata": {
      "byteLimit": 2048000,
      "rowLimit": 10000
     },
     "inputWidgets": {},
     "nuid": "4bd12d58-1f5b-4c34-8082-cc6722944af7",
     "showTitle": false,
     "tableResultSettingsMap": {},
     "title": ""
    }
   },
   "outputs": [],
   "source": [
    "# This is a pattern; replace with your audit log query path if available\n",
    "# Simulated: Query audit logs for all SELECTs by 'analysts'\n",
    "try:\n",
    "    logs = spark.read.json('/path/to/audit_logs')\n",
    "    logs.filter((logs.actionName == 'select') & (logs.principalGroupName == 'analysts')).display()\n",
    "except Exception as e:\n",
    "    print('No audit logs available in this environment.')"
   ]
  },
  {
   "cell_type": "code",
   "execution_count": 0,
   "metadata": {
    "application/vnd.databricks.v1+cell": {
     "cellMetadata": {},
     "inputWidgets": {},
     "nuid": "c3cca5c7-9cb9-4e5a-83c7-0fa547004afd",
     "showTitle": false,
     "tableResultSettingsMap": {},
     "title": ""
    }
   },
   "outputs": [],
   "source": [
    "spark.sql('GRANT SELECT ON VIEW fin_prod.trans.marketplace_enriched TO `risk_team`')"
   ]
  },
  {
   "cell_type": "markdown",
   "metadata": {
    "application/vnd.databricks.v1+cell": {
     "cellMetadata": {},
     "inputWidgets": {},
     "nuid": "365875d3-9698-401d-b08b-82d67a656d2a",
     "showTitle": false,
     "tableResultSettingsMap": {},
     "title": ""
    }
   },
   "source": [
    "## 8. External Location & Secure Data Sharing\n",
    "\n",
    "Register an external location for data exchange and grant usage only to a trusted partner group."
   ]
  },
  {
   "cell_type": "code",
   "execution_count": 0,
   "metadata": {
    "application/vnd.databricks.v1+cell": {
     "cellMetadata": {
      "byteLimit": 2048000,
      "implicitDf": true,
      "rowLimit": 10000
     },
     "inputWidgets": {},
     "nuid": "1f430adc-b58f-4902-a5e7-1ced4fe6d8f2",
     "showTitle": false,
     "tableResultSettingsMap": {},
     "title": ""
    }
   },
   "outputs": [],
   "source": [
    "%sql\n",
    "CREATE EXTERNAL LOCATION IF NOT EXISTS partner_share_new\n",
    "URL 'abfss://data@deassociateadls.dfs.core.windows.net/uc/share_new'\n",
    "WITH (STORAGE CREDENTIAL adls_azuremanagedidentity_1748360566649)"
   ]
  },
  {
   "cell_type": "code",
   "execution_count": 0,
   "metadata": {
    "application/vnd.databricks.v1+cell": {
     "cellMetadata": {},
     "inputWidgets": {},
     "nuid": "77c53099-5cea-48eb-a6d9-e8063b93ce36",
     "showTitle": false,
     "tableResultSettingsMap": {},
     "title": ""
    }
   },
   "outputs": [],
   "source": [
    "spark.sql('GRANT USAGE ON EXTERNAL LOCATION partner_share TO `trusted_partners`')"
   ]
  },
  {
   "cell_type": "markdown",
   "metadata": {
    "application/vnd.databricks.v1+cell": {
     "cellMetadata": {},
     "inputWidgets": {},
     "nuid": "581a2f56-d0b9-4265-afe7-478f786884f0",
     "showTitle": false,
     "tableResultSettingsMap": {},
     "title": ""
    }
   },
   "source": [
    "---\n",
    "## End of Advanced Scenario\n",
    "\n",
    "- Validate with group/user changes.\n",
    "- Use Unity Catalog UI for lineage visualization.\n",
    "- Review logs for security incidents.\n",
    "- Clean up as needed.\n",
    "\n",
    "---\n",
    "**Exam Practice:**\n",
    "- Identify when and how to use dynamic views, external locations, cross-catalog sharing.\n",
    "- Be able to explain the business and compliance reasons for each setup.\n"
   ]
  }
 ],
 "metadata": {
  "application/vnd.databricks.v1+notebook": {
   "computePreferences": null,
   "dashboards": [],
   "environmentMetadata": null,
   "inputWidgetPreferences": null,
   "language": "python",
   "notebookMetadata": {
    "mostRecentlyExecutedCommandWithImplicitDF": {
     "commandId": 3506044509668553,
     "dataframes": [
      "_sqldf"
     ]
    },
    "pythonIndentUnit": 4
   },
   "notebookName": "unity_catalog_advanced_scenario",
   "widgets": {}
  },
  "language_info": {
   "name": "python"
  }
 },
 "nbformat": 4,
 "nbformat_minor": 0
}