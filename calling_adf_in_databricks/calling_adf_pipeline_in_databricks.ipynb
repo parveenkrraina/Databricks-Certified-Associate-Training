{
 "cells": [
  {
   "cell_type": "markdown",
   "metadata": {
    "application/vnd.databricks.v1+cell": {
     "cellMetadata": {},
     "inputWidgets": {},
     "nuid": "1ea4c73e-9505-4c57-bbca-780a9fdb18ce",
     "showTitle": false,
     "tableResultSettingsMap": {},
     "title": ""
    }
   },
   "source": [
    "### Step 1: Get Azure AD OAuth 2.0 Token\n",
    "You first authenticate against Azure AD to get an access token for the REST API."
   ]
  },
  {
   "cell_type": "code",
   "execution_count": 0,
   "metadata": {
    "application/vnd.databricks.v1+cell": {
     "cellMetadata": {
      "byteLimit": 2048000,
      "rowLimit": 10000
     },
     "inputWidgets": {},
     "nuid": "5103559c-3448-44c7-bd4a-5dca9013235b",
     "showTitle": false,
     "tableResultSettingsMap": {},
     "title": ""
    }
   },
   "outputs": [
    {
     "output_type": "stream",
     "name": "stdout",
     "output_type": "stream",
     "text": [
      "Token acquired: True\n"
     ]
    }
   ],
   "source": [
    "import requests\n",
    "\n",
    "tenant_id = \"42f78800-9498-4c26-9548-8c7c50be6fea\"\n",
    "client_id = \"99434b6b-8619-45a7-84da-b1ce2dc7fb32\"\n",
    "client_secret = \"JT-8Q~t-EVaCuS23SgeDLSJuGbVaBkyQO0O9xbd-\"\n",
    "resource = \"https://management.azure.com/\"\n",
    "\n",
    "url = f\"https://login.microsoftonline.com/{tenant_id}/oauth2/token\"\n",
    "payload = {\n",
    "    \"grant_type\": \"client_credentials\",\n",
    "    \"client_id\": client_id,\n",
    "    \"client_secret\": client_secret,\n",
    "    \"resource\": resource\n",
    "}\n",
    "\n",
    "response = requests.post(url, data=payload)\n",
    "access_token = response.json()[\"access_token\"]\n",
    "print(\"Token acquired:\", access_token is not None)"
   ]
  },
  {
   "cell_type": "markdown",
   "metadata": {
    "application/vnd.databricks.v1+cell": {
     "cellMetadata": {},
     "inputWidgets": {},
     "nuid": "680d7bcd-d4fe-4c35-9829-123548bde2c7",
     "showTitle": false,
     "tableResultSettingsMap": {},
     "title": ""
    }
   },
   "source": [
    "### Step 2: Trigger the ADF Pipeline\n",
    "Use the Azure REST API to trigger the pipeline run."
   ]
  },
  {
   "cell_type": "code",
   "execution_count": 0,
   "metadata": {
    "application/vnd.databricks.v1+cell": {
     "cellMetadata": {
      "byteLimit": 2048000,
      "rowLimit": 10000
     },
     "inputWidgets": {},
     "nuid": "5bbf791f-251f-4c49-8852-7b634dd37b7e",
     "showTitle": false,
     "tableResultSettingsMap": {},
     "title": ""
    }
   },
   "outputs": [
    {
     "output_type": "stream",
     "name": "stdout",
     "output_type": "stream",
     "text": [
      "200\n{'runId': 'd6efee47-3296-4512-b17e-dafa05010e62'}\n"
     ]
    }
   ],
   "source": [
    "subscription_id = \"a95bd541-b705-4b8f-8243-c8bbe46637d0\"\n",
    "resource_group = \"databricksRG\"\n",
    "data_factory_name = \"adfsample03062025\"\n",
    "pipeline_name = \"databricks_jobs\"\n",
    "\n",
    "url = f\"https://management.azure.com/subscriptions/{subscription_id}/resourceGroups/{resource_group}/providers/Microsoft.DataFactory/factories/{data_factory_name}/pipelines/{pipeline_name}/createRun?api-version=2018-06-01\"\n",
    "\n",
    "headers = {\n",
    "    'Authorization': f'Bearer {access_token}',\n",
    "    'Content-Type': 'application/json'\n",
    "}\n",
    "\n",
    "# Optional: pass parameters to pipeline\n",
    "payload = {\n",
    "    # 'param1': 'value1',\n",
    "    # 'param2': 'value2'\n",
    "}\n",
    "\n",
    "response = requests.post(url, headers=headers, json=payload)\n",
    "print(response.status_code)\n",
    "print(response.json())\n"
   ]
  }
 ],
 "metadata": {
  "application/vnd.databricks.v1+notebook": {
   "computePreferences": null,
   "dashboards": [],
   "environmentMetadata": {
    "base_environment": "",
    "environment_version": "2"
   },
   "inputWidgetPreferences": null,
   "language": "python",
   "notebookMetadata": {
    "pythonIndentUnit": 4
   },
   "notebookName": "calling_adf_pipeline_in_databricks",
   "widgets": {}
  },
  "language_info": {
   "name": "python"
  }
 },
 "nbformat": 4,
 "nbformat_minor": 0
}