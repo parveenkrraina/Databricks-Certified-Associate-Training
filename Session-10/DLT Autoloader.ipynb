{
 "cells": [
  {
   "cell_type": "markdown",
   "metadata": {
    "application/vnd.databricks.v1+cell": {
     "cellMetadata": {},
     "inputWidgets": {},
     "nuid": "ec2cd851-2663-4467-be8c-d9f3daff29b2",
     "showTitle": false,
     "tableResultSettingsMap": {},
     "title": ""
    }
   },
   "source": [
    "# Databricks DLT with Autoloader Module\n",
    "\n",
    "## Introduction\n",
    "\n",
    "Delta Live Tables (DLT) and Autoloader can be combined to build robust, streaming data pipelines that automatically detect and ingest new data files as they land in cloud storage. This pattern is ideal for continuous ingestion scenarios, ensuring that new data is always processed without manual intervention.\n",
    "\n",
    "## Why Combine DLT with Autoloader?\n",
    "\n",
    "- **Autoloader** provides scalable, efficient file discovery and incremental ingestion.\n",
    "- **DLT** adds declarative pipeline orchestration, monitoring, data quality, and easy transformation management.\n",
    "- **Together:** You get end-to-end automation, reliability, and easy-to-maintain pipelines."
   ]
  },
  {
   "cell_type": "markdown",
   "metadata": {
    "application/vnd.databricks.v1+cell": {
     "cellMetadata": {},
     "inputWidgets": {},
     "nuid": "2d17815d-275f-4cf1-ac03-16954ab4e77f",
     "showTitle": false,
     "tableResultSettingsMap": {},
     "title": ""
    }
   },
   "source": [
    "## Example: DLT Pipeline Using Autoloader (CSV Files)\n",
    "\n",
    "Let’s build a pipeline to ingest sales data as soon as new files arrive in `/FileStore/data/input/`.\n",
    "\n",
    "### 1. DLT Notebook Setup"
   ]
  },
  {
   "cell_type": "code",
   "execution_count": 0,
   "metadata": {
    "application/vnd.databricks.v1+cell": {
     "cellMetadata": {
      "byteLimit": 2048000,
      "rowLimit": 10000
     },
     "inputWidgets": {},
     "nuid": "d8e94973-96a5-43fe-b85c-d5188a466440",
     "showTitle": false,
     "tableResultSettingsMap": {},
     "title": ""
    }
   },
   "outputs": [],
   "source": [
    "import dlt\n",
    "from pyspark.sql.functions import *"
   ]
  },
  {
   "cell_type": "markdown",
   "metadata": {
    "application/vnd.databricks.v1+cell": {
     "cellMetadata": {},
     "inputWidgets": {},
     "nuid": "0988d1ae-df96-4812-aed5-90214921e489",
     "showTitle": false,
     "tableResultSettingsMap": {},
     "title": ""
    }
   },
   "source": [
    "### 2. Ingest Sales Data Using Autoloader"
   ]
  },
  {
   "cell_type": "code",
   "execution_count": 0,
   "metadata": {
    "application/vnd.databricks.v1+cell": {
     "cellMetadata": {
      "byteLimit": 2048000,
      "rowLimit": 10000
     },
     "inputWidgets": {},
     "nuid": "43c83e6b-7102-46d1-85ca-ba08c9966152",
     "showTitle": false,
     "tableResultSettingsMap": {},
     "title": ""
    }
   },
   "outputs": [],
   "source": [
    "@dlt.table(\n",
    "    name=\"raw_sales\",\n",
    "    comment=\"Ingested sales data using Autoloader as streaming source.\"\n",
    ")\n",
    "def ingest_sales():\n",
    "    return (\n",
    "        spark.readStream\n",
    "            .format(\"cloudFiles\")\n",
    "            .option(\"cloudFiles.format\", \"csv\")\n",
    "            .option(\"header\", True)\n",
    "            .option(\"inferSchema\", True)\n",
    "            .option(\"cloudFiles.useNotification\",True)\n",
    "            .load(\"/FileStore/data/input/\")\n",
    "    )"
   ]
  },
  {
   "cell_type": "markdown",
   "metadata": {
    "application/vnd.databricks.v1+cell": {
     "cellMetadata": {},
     "inputWidgets": {},
     "nuid": "d5e78831-8743-44b9-abb0-d2d7040a5b5e",
     "showTitle": false,
     "tableResultSettingsMap": {},
     "title": ""
    }
   },
   "source": [
    "**Explanation:**  \n",
    "This creates a streaming DLT table (`raw_sales`) that will auto-update as new files are dropped in the input folder. The `cloudFiles` source activates Autoloader."
   ]
  },
  {
   "cell_type": "markdown",
   "metadata": {
    "application/vnd.databricks.v1+cell": {
     "cellMetadata": {},
     "inputWidgets": {},
     "nuid": "fcfad804-600d-4bc3-84e7-0bebb5fab89a",
     "showTitle": false,
     "tableResultSettingsMap": {},
     "title": ""
    }
   },
   "source": [
    "### 3. Ingest Static Reference Data (Customers, Products)\n"
   ]
  },
  {
   "cell_type": "code",
   "execution_count": 0,
   "metadata": {
    "application/vnd.databricks.v1+cell": {
     "cellMetadata": {},
     "inputWidgets": {},
     "nuid": "58dd6c1a-5aea-463f-a1b0-ac6024b547b0",
     "showTitle": false,
     "tableResultSettingsMap": {},
     "title": ""
    }
   },
   "outputs": [],
   "source": [
    "@dlt.table(name=\"raw_customers\")\n",
    "def load_customers():\n",
    "    return (\n",
    "        spark.read.format(\"csv\")\n",
    "            .option(\"header\", True)\n",
    "            .option(\"inferSchema\", True)\n",
    "            .load(\"/FileStore/data/input/customer_details.csv\")\n",
    "    )\n",
    "\n",
    "@dlt.table(name=\"raw_products\")\n",
    "def load_products():\n",
    "    return (\n",
    "        spark.read.format(\"csv\")\n",
    "            .option(\"header\", True)\n",
    "            .option(\"inferSchema\", True)\n",
    "            .load(\"/FileStore/data/input/product_catalog.csv\")\n",
    "    )"
   ]
  },
  {
   "cell_type": "markdown",
   "metadata": {
    "application/vnd.databricks.v1+cell": {
     "cellMetadata": {},
     "inputWidgets": {},
     "nuid": "8c664ec7-9c09-4626-90c5-800a0ca47832",
     "showTitle": false,
     "tableResultSettingsMap": {},
     "title": ""
    }
   },
   "source": [
    "*For reference data, use batch reads (static tables) unless you expect those files to change frequently.*"
   ]
  },
  {
   "cell_type": "markdown",
   "metadata": {
    "application/vnd.databricks.v1+cell": {
     "cellMetadata": {},
     "inputWidgets": {},
     "nuid": "07c9f513-3e0f-4c96-8f4a-212441ca6654",
     "showTitle": false,
     "tableResultSettingsMap": {},
     "title": ""
    }
   },
   "source": [
    "### 4. Transform and Join Data"
   ]
  },
  {
   "cell_type": "code",
   "execution_count": 0,
   "metadata": {
    "application/vnd.databricks.v1+cell": {
     "cellMetadata": {},
     "inputWidgets": {},
     "nuid": "891f946a-d69e-4fb9-885b-09113de1dc14",
     "showTitle": false,
     "tableResultSettingsMap": {},
     "title": ""
    }
   },
   "outputs": [],
   "source": [
    "@dlt.table(name=\"enriched_sales\")\n",
    "def transform_sales():\n",
    "    sales = dlt.read_stream(\"raw_sales\")\n",
    "    customers = dlt.read(\"raw_customers\").select(\n",
    "        col(\"CustomerName\").alias(\"CustomerName_cust\"),\n",
    "        col(\"CustomerID\").alias(\"CustomerID_cust\"),\n",
    "        col(\"Address\").alias(\"Address_cust\"),\n",
    "        col(\"EmailAddress\").alias(\"EmailAddress_cust\"),\n",
    "        col(\"Country\").alias(\"Country_cust\"),\n",
    "        col(\"PostalCode\").alias(\"PostalCode_cust\"),\n",
    "        col(\"PhoneNumber\").alias(\"PhoneNumber_cust\"),\n",
    "        col(\"City\").alias(\"City_cust\"),\n",
    "        col(\"State\").alias(\"State_cust\")\n",
    "    )\n",
    "    products = dlt.read(\"raw_products\").select(\n",
    "        col(\"Item\").alias(\"Item_prod\"),\n",
    "        col(\"Category\").alias(\"Category_prod\"),\n",
    "        col(\"UnitPrice\").alias(\"UnitPrice_prod\"),\n",
    "        col(\"ProductID\").alias(\"ProductID_prod\")\n",
    "    )\n",
    "    return (\n",
    "        sales.join(customers, sales.CustomerName == customers.CustomerName_cust, \"left\")\n",
    "             .join(products, sales.Item == products.Item_prod, \"left\")\n",
    "    )"
   ]
  },
  {
   "cell_type": "markdown",
   "metadata": {
    "application/vnd.databricks.v1+cell": {
     "cellMetadata": {},
     "inputWidgets": {},
     "nuid": "e6e0166e-db41-411f-b78f-2e57b6ecbeb8",
     "showTitle": false,
     "tableResultSettingsMap": {},
     "title": ""
    }
   },
   "source": [
    "*Use `dlt.read_stream(\"raw_sales\")` since it is a streaming source.*"
   ]
  },
  {
   "cell_type": "markdown",
   "metadata": {
    "application/vnd.databricks.v1+cell": {
     "cellMetadata": {},
     "inputWidgets": {},
     "nuid": "9f1b3876-f915-4862-a094-c4213701b795",
     "showTitle": false,
     "tableResultSettingsMap": {},
     "title": ""
    }
   },
   "source": [
    "### 5. Add Data Quality Checks (Expectations)"
   ]
  },
  {
   "cell_type": "code",
   "execution_count": 0,
   "metadata": {
    "application/vnd.databricks.v1+cell": {
     "cellMetadata": {},
     "inputWidgets": {},
     "nuid": "823a5569-7632-4c12-bd70-d0318d317307",
     "showTitle": false,
     "tableResultSettingsMap": {},
     "title": ""
    }
   },
   "outputs": [],
   "source": [
    "@dlt.expect(\"valid_quantity\", \"Quantity > 0\")\n",
    "@dlt.expect(\"valid_price\", \"UnitPrice > 0\")\n",
    "@dlt.table(name=\"validated_sales\")\n",
    "def validate_sales():\n",
    "    return dlt.read(\"enriched_sales\")"
   ]
  },
  {
   "cell_type": "markdown",
   "metadata": {
    "application/vnd.databricks.v1+cell": {
     "cellMetadata": {},
     "inputWidgets": {},
     "nuid": "f72f3d60-aab2-4474-8197-df758018a036",
     "showTitle": false,
     "tableResultSettingsMap": {},
     "title": ""
    }
   },
   "source": [
    "*Enforces rules: only rows with positive `Quantity` and `UnitPrice` are kept.*"
   ]
  },
  {
   "cell_type": "markdown",
   "metadata": {
    "application/vnd.databricks.v1+cell": {
     "cellMetadata": {},
     "inputWidgets": {},
     "nuid": "6718e195-35a1-4b76-a3af-b2bf0979f7d7",
     "showTitle": false,
     "tableResultSettingsMap": {},
     "title": ""
    }
   },
   "source": [
    "### 6. Query the Results\n",
    "After running the pipeline, query your final validated table:"
   ]
  },
  {
   "cell_type": "code",
   "execution_count": 0,
   "metadata": {
    "application/vnd.databricks.v1+cell": {
     "cellMetadata": {},
     "inputWidgets": {},
     "nuid": "8c170c10-fa7c-4a63-9aee-0291d9450469",
     "showTitle": false,
     "tableResultSettingsMap": {},
     "title": ""
    }
   },
   "outputs": [],
   "source": [
    "# To display the validated_sales table, use the following within the DLT pipeline\n",
    "@dlt.view(name=\"validated_sales_view\")\n",
    "def display_validated_sales():\n",
    "    return dlt.read(\"validated_sales\")"
   ]
  },
  {
   "cell_type": "markdown",
   "metadata": {
    "application/vnd.databricks.v1+cell": {
     "cellMetadata": {},
     "inputWidgets": {},
     "nuid": "372c864a-6278-4aeb-bef6-a34905229a5a",
     "showTitle": false,
     "tableResultSettingsMap": {},
     "title": ""
    }
   },
   "source": [
    "## Key Points & Best Practices\n",
    "\n",
    "- Use **Autoloader** for scalable, reliable streaming ingestion.\n",
    "- **DLT** handles orchestration, dependencies, and data quality.\n",
    "- Reference data: Use batch reads unless it updates frequently—then you can use streaming here, too.\n",
    "- Use `dlt.read_stream()` when downstream table expects streaming input.\n",
    "- Monitor the pipeline using the DLT UI for lineage and quality metrics.\n"
   ]
  }
 ],
 "metadata": {
  "application/vnd.databricks.v1+notebook": {
   "computePreferences": null,
   "dashboards": [],
   "environmentMetadata": {
    "base_environment": "",
    "environment_version": "2"
   },
   "inputWidgetPreferences": null,
   "language": "python",
   "notebookMetadata": {
    "pythonIndentUnit": 4
   },
   "notebookName": "DLT Autoloader",
   "widgets": {}
  },
  "language_info": {
   "name": "python"
  }
 },
 "nbformat": 4,
 "nbformat_minor": 0
}