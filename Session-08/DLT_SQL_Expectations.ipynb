{
 "cells": [
  {
   "cell_type": "markdown",
   "metadata": {
    "application/vnd.databricks.v1+cell": {
     "cellMetadata": {
      "byteLimit": 2048000,
      "rowLimit": 10000
     },
     "inputWidgets": {},
     "nuid": "d503442b-5280-4528-aa91-131daa0a0893",
     "showTitle": false,
     "tableResultSettingsMap": {},
     "title": ""
    }
   },
   "source": [
    "# Delta Live Tables SQL Pipeline with Complex Data Quality Expectations\n",
    "This notebook implements a Medallion Architecture pipeline (Bronze, Silver, Gold) using Delta Live Tables SQL syntax.\n",
    "\n",
    "We will ingest raw sales data, clean and validate it with multiple data quality expectations, then aggregate it for reporting."
   ]
  },
  {
   "cell_type": "markdown",
   "metadata": {
    "application/vnd.databricks.v1+cell": {
     "cellMetadata": {
      "byteLimit": 2048000,
      "rowLimit": 10000
     },
     "inputWidgets": {},
     "nuid": "66608866-c675-4118-8f94-6cbb1389ebc6",
     "showTitle": false,
     "tableResultSettingsMap": {},
     "title": ""
    }
   },
   "source": [
    "## Step 1: Bronze Layer - Raw Data Ingestion\n",
    "\n",
    "In this step, we ingest the raw CSV sales data as-is, casting minimal types.\n",
    "\n",
    "This layer acts as the immutable source data in our pipeline."
   ]
  },
  {
   "cell_type": "code",
   "execution_count": 0,
   "metadata": {
    "application/vnd.databricks.v1+cell": {
     "cellMetadata": {
      "byteLimit": 2048000,
      "rowLimit": 10000
     },
     "inputWidgets": {},
     "nuid": "f67cede8-9fe0-4a91-8fbc-7f65cdd652b3",
     "showTitle": false,
     "tableResultSettingsMap": {},
     "title": ""
    }
   },
   "outputs": [],
   "source": [
    "-- Load the CSV file into a Delta table with correct column names\n",
    "CREATE LIVE TABLE bronze_sales_raw_delta AS\n",
    "SELECT\n",
    "  _c0 AS SalesOrderNumber,\n",
    "  _c1 AS SalesOrderLineNumber,\n",
    "  CAST(_c2 AS DATE) AS OrderDate,\n",
    "  _c3 AS CustomerId,\n",
    "  _c4 AS CustomerName,\n",
    "  _c5 AS EmailAddress,\n",
    "  _c6 AS Item,\n",
    "  _c7 AS Quantity,\n",
    "  _c8 AS UnitPrice,\n",
    "  _c9 AS TaxAmount\n",
    "FROM csv.`/FileStore/sales.csv`;\n",
    "\n",
    "-- Create the live table from the Delta table\n",
    "CREATE LIVE TABLE bronze_sales_raw AS\n",
    "SELECT *\n",
    "FROM LIVE.bronze_sales_raw_delta;"
   ]
  },
  {
   "cell_type": "markdown",
   "metadata": {
    "application/vnd.databricks.v1+cell": {
     "cellMetadata": {
      "byteLimit": 2048000,
      "rowLimit": 10000
     },
     "inputWidgets": {},
     "nuid": "fa25543a-550e-43c5-b886-7728872cfb5e",
     "showTitle": false,
     "tableResultSettingsMap": {},
     "title": ""
    }
   },
   "source": [
    "## Step 2: Silver Layer - Data Cleaning and Quality Checks\n",
    "\n",
    "This layer cleans the raw data by applying type casting and basic filtering.\n",
    "\n",
    "We also apply multiple **data quality expectations** to ensure the data integrity before it flows downstream.\n",
    "\n",
    "**Explanation of Expectations:**\n",
    "\n",
    "- `EXPECT NOT NULL(SalesOrderNumber)`  \n",
    "  Ensures every row has a sales order number. Null values here would invalidate the record.\n",
    "\n",
    "- `EXPECT UNIQUE(SalesOrderNumber)`  \n",
    "  Guarantees uniqueness of sales orders, avoiding duplicates.\n",
    "\n",
    "- `EXPECT NOT NULL(OrderDate)`  \n",
    "  Order date is mandatory to analyze sales over time.\n",
    "\n",
    "- `EXPECT(OrderDate <= CURRENT_DATE())`  \n",
    "  Prevents future dates which are invalid in historical data.\n",
    "\n",
    "- `EXPECT(Quantity BETWEEN 1 AND 100)`  \n",
    "  Ensures quantity is within reasonable bounds.\n",
    "\n",
    "- `EXPECT(UnitPrice > 0)`  \n",
    "  Unit price must be positive, no free or negative prices allowed.\n",
    "\n",
    "- `EXPECT(TaxAmount >= 0)`  \n",
    "  Tax amount cannot be negative.\n",
    "\n",
    "- `EXPECT EmailAddress LIKE '%@%'`  \n",
    "  Basic check to ensure email address has an '@' symbol (simple email format validation).\n",
    "\n",
    "These expectations act as guardrails. If any fail during pipeline runs, alerts or failures are triggered, helping maintain clean and reliable data.\n",
    "\n",
    "The **constraint clause** is a SQL conditional statement that must evaluate to true or false for each record. The constraint contains the actual logic for what is being validated. When a record fails this condition, the expectation is triggered.\n",
    "\n",
    "Constraints must use valid SQL syntax and cannot contain the following:\n",
    "\n",
    "- Custom Python functions\n",
    "- External service calls\n",
    "- Subqueries referencing other tables\n",
    "\n",
    "```sql\n",
    "-- Simple constraint\n",
    "CONSTRAINT non_negative_price EXPECT (price >= 0)\n",
    "\n",
    "-- SQL functions\n",
    "CONSTRAINT valid_date EXPECT (year(transaction_date) >= 2020)\n",
    "\n",
    "-- CASE statements\n",
    "CONSTRAINT valid_order_status EXPECT (\n",
    "    CASE\n",
    "        WHEN type = 'ORDER' THEN status IN ('PENDING', 'COMPLETED', 'CANCELLED')\n",
    "        WHEN type = 'REFUND' THEN status IN ('PENDING', 'APPROVED', 'REJECTED')\n",
    "        ELSE false\n",
    "    END\n",
    ")\n",
    "\n",
    "-- Multiple constraints\n",
    "CONSTRAINT non_negative_price EXPECT (price >= 0)\n",
    "CONSTRAINT valid_purchase_date EXPECT (date <= current_date())\n",
    "\n",
    "-- Complex business logic\n",
    "CONSTRAINT valid_subscription_dates EXPECT (\n",
    "    start_date <= end_date\n",
    "    AND end_date <= current_date()\n",
    "    AND start_date >= '2020-01-01'\n",
    ")\n",
    "\n",
    "-- Complex boolean logic\n",
    "CONSTRAINT valid_order_state EXPECT (\n",
    "    (status = 'ACTIVE' AND balance > 0)\n",
    "    OR (status = 'PENDING' AND created_date > current_date() - INTERVAL 7 DAYS)\n",
    ")\n",
    "```"
   ]
  },
  {
   "cell_type": "code",
   "execution_count": 0,
   "metadata": {
    "application/vnd.databricks.v1+cell": {
     "cellMetadata": {
      "byteLimit": 2048000,
      "rowLimit": 10000
     },
     "inputWidgets": {},
     "nuid": "10c77de0-05ec-43ec-922b-e0e721ec7c56",
     "showTitle": false,
     "tableResultSettingsMap": {},
     "title": ""
    }
   },
   "outputs": [],
   "source": [
    "CREATE LIVE TABLE silver_sales_cleaned (\n",
    "  SalesOrderNumber STRING NOT NULL,\n",
    "  SalesOrderLineNumber STRING,\n",
    "  OrderDate DATE NOT NULL,\n",
    "  CustomerId STRING,\n",
    "  CustomerName STRING,\n",
    "  EmailAddress STRING,\n",
    "  Item STRING,\n",
    "  Quantity INT,\n",
    "  UnitPrice DOUBLE,\n",
    "  TaxAmount DOUBLE,\n",
    "  CONSTRAINT order_id_not_null EXPECT (SalesOrderNumber IS NOT NULL),\n",
    "  CONSTRAINT order_date_not_null EXPECT (OrderDate IS NOT NULL),\n",
    "  CONSTRAINT email_format EXPECT (EmailAddress LIKE '%@%'),\n",
    "  CONSTRAINT quantity_valid EXPECT (Quantity BETWEEN 1 AND 100),\n",
    "  CONSTRAINT price_positive EXPECT (UnitPrice > 0),\n",
    "  CONSTRAINT tax_non_negative EXPECT (TaxAmount >= 0),\n",
    "  CONSTRAINT order_date_valid EXPECT (OrderDate <= CURRENT_DATE())\n",
    ")\n",
    "AS\n",
    "SELECT\n",
    "  SalesOrderNumber,\n",
    "  SalesOrderLineNumber,\n",
    "  OrderDate,\n",
    "  CustomerId,\n",
    "  CustomerName,\n",
    "  EmailAddress,\n",
    "  Item,\n",
    "  CAST(Quantity AS INT) AS Quantity,\n",
    "  CAST(UnitPrice AS DOUBLE) AS UnitPrice,\n",
    "  CAST(TaxAmount AS DOUBLE) AS TaxAmount\n",
    "FROM live.bronze_sales_raw\n",
    "WHERE SalesOrderNumber IS NOT NULL\n",
    "  AND OrderDate IS NOT NULL;"
   ]
  },
  {
   "cell_type": "markdown",
   "metadata": {
    "application/vnd.databricks.v1+cell": {
     "cellMetadata": {
      "byteLimit": 2048000,
      "rowLimit": 10000
     },
     "inputWidgets": {},
     "nuid": "00c9fcf6-96b5-4a04-a428-3381543339dc",
     "showTitle": false,
     "tableResultSettingsMap": {},
     "title": ""
    }
   },
   "source": [
    "## Step 3: Gold Layer - Aggregations for Reporting\n",
    "\n",
    "In this final layer, we aggregate sales metrics monthly by customer.\n",
    "\n",
    "Aggregations provide meaningful insights like total quantity sold, total sales amount, and total tax per customer per month.\n",
    "\n",
    "This table is typically consumed by business intelligence or analytics tools."
   ]
  },
  {
   "cell_type": "code",
   "execution_count": 0,
   "metadata": {
    "application/vnd.databricks.v1+cell": {
     "cellMetadata": {
      "byteLimit": 2048000,
      "rowLimit": 10000
     },
     "inputWidgets": {},
     "nuid": "5e0fcfbb-79ae-4750-a9ad-1621aa5fb017",
     "showTitle": false,
     "tableResultSettingsMap": {},
     "title": ""
    }
   },
   "outputs": [],
   "source": [
    "CREATE LIVE TABLE gold_sales_aggregated AS\n",
    "SELECT\n",
    "  CustomerId,\n",
    "  DATE_TRUNC('month', OrderDate) AS SalesMonth,\n",
    "  COUNT(DISTINCT SalesOrderNumber) AS NumberOfOrders,\n",
    "  SUM(Quantity) AS TotalQuantity,\n",
    "  SUM(Quantity * UnitPrice) AS TotalSales,\n",
    "  SUM(TaxAmount) AS TotalTax\n",
    "FROM live.silver_sales_cleaned\n",
    "GROUP BY CustomerId, DATE_TRUNC('month', OrderDate);"
   ]
  },
  {
   "cell_type": "markdown",
   "metadata": {
    "application/vnd.databricks.v1+cell": {
     "cellMetadata": {
      "byteLimit": 2048000,
      "rowLimit": 10000
     },
     "inputWidgets": {},
     "nuid": "c6f8326d-5668-42d0-bec0-10b2f5668d10",
     "showTitle": false,
     "tableResultSettingsMap": {},
     "title": ""
    }
   },
   "source": [
    "## Summary\n",
    "\n",
    "- The **Bronze** table ingests raw data directly from CSV.  \n",
    "- The **Silver** table cleans and validates data, applying multiple expectations to ensure quality.  \n",
    "- The **Gold** table aggregates sales data, ready for downstream consumption.  \n",
    "\n",
    "This pipeline showcases the power of Delta Live Tables declarative SQL pipelines combined with robust data quality enforcement through expectations."
   ]
  },
  {
   "cell_type": "markdown",
   "metadata": {
    "application/vnd.databricks.v1+cell": {
     "cellMetadata": {
      "byteLimit": 2048000,
      "rowLimit": 10000
     },
     "inputWidgets": {},
     "nuid": "01841c25-8a58-478c-bd9a-b30c60438597",
     "showTitle": false,
     "tableResultSettingsMap": {},
     "title": ""
    }
   },
   "source": [
    "### Next Steps\n",
    "\n",
    "- Run this pipeline in your Delta Live Tables environment.  \n",
    "- Monitor expectation results in the UI; experiment by modifying input data to trigger failures.  \n",
    "- Extend the pipeline with streaming ingestion or additional quality checks."
   ]
  }
 ],
 "metadata": {
  "application/vnd.databricks.v1+notebook": {
   "computePreferences": null,
   "dashboards": [],
   "environmentMetadata": null,
   "inputWidgetPreferences": null,
   "language": "sql",
   "notebookMetadata": {
    "pythonIndentUnit": 4
   },
   "notebookName": "DLT_SQL_Expectations",
   "widgets": {}
  },
  "language_info": {
   "name": "sql"
  }
 },
 "nbformat": 4,
 "nbformat_minor": 0
}